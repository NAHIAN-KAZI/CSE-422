{
  "nbformat": 4,
  "nbformat_minor": 0,
  "metadata": {
    "colab": {
      "provenance": []
    },
    "kernelspec": {
      "name": "python3",
      "display_name": "Python 3"
    },
    "language_info": {
      "name": "python"
    }
  },
  "cells": [
    {
      "cell_type": "code",
      "execution_count": 15,
      "metadata": {
        "colab": {
          "base_uri": "https://localhost:8080/"
        },
        "id": "nmmIruxhoKk-",
        "outputId": "b5f02918-2cc1-4c4e-c081-ed50e5208d89"
      },
      "outputs": [
        {
          "output_type": "stream",
          "name": "stdout",
          "text": [
            "-1\n",
            "iteration: 9\n",
            "1011010\n"
          ]
        }
      ],
      "source": [
        "from random import randint as rd\n",
        "class StrangeBank:\n",
        "    def __init__(self,a):\n",
        "        user_input= a\n",
        "        inp=user_input.strip().split('\\n')\n",
        "        self.n=int(inp[0])\n",
        "        self.ld=[]\n",
        "        self.trans=[]\n",
        "        for i in inp[1:]:\n",
        "            self.ld+=[i.split()[0]]\n",
        "            self.trans+=[int(i.split()[1])]\n",
        "\n",
        "    def chromosome(self):\n",
        "        chrom_one=\"\"\n",
        "        chrom_two=\"\"\n",
        "        for i in range(self.n):\n",
        "            chrom_one+=str(rd(0,1))\n",
        "            chrom_two+=str(rd(0,1))\n",
        "        return chrom_one,chrom_two\n",
        "    def fitness(self, chrom1, chrom2):\n",
        "        fit1 = 0\n",
        "        fit2 = 0\n",
        "        for j, transaction in enumerate(self.trans):\n",
        "            if chrom1[j] == \"1\":\n",
        "                fit1 += (-transaction if self.ld[j] == \"l\" else transaction)\n",
        "            if chrom2[j] == \"1\":\n",
        "                fit2 += (-transaction if self.ld[j] == \"l\" else transaction)\n",
        "        return fit1, fit2\n",
        "\n",
        "\n",
        "    def crossover(self,chrom1,chrom2):\n",
        "        index=rd(0,self.n-1)\n",
        "\n",
        "        chrom1=chrom1[:index]+chrom2[index:]\n",
        "        chrom2=chrom2[:index]+chrom1[index:]\n",
        "        return chrom1,chrom2\n",
        "    def mutation(self, chrom1, chrom2):\n",
        "        mutated_chrom1 = list(chrom1)\n",
        "        mutated_chrom2 = list(chrom2)\n",
        "\n",
        "        index = rd(0, self.n - 1)\n",
        "        mutated_chrom1[index] = \"0\" if chrom1[index] == \"1\" else \"1\"\n",
        "\n",
        "        index = rd(0, self.n - 1)\n",
        "        mutated_chrom2[index] = \"0\" if chrom2[index] == \"1\" else \"1\"\n",
        "\n",
        "        return \"\".join(mutated_chrom1), \"\".join(mutated_chrom2)\n",
        "\n",
        "    def genetic_algorithm(self):\n",
        "        max_iterations = 80\n",
        "        for j in range(max_iterations):\n",
        "            c1, c2 = self.chromosome()\n",
        "            f1, f2 = self.fitness(c1, c2)\n",
        "\n",
        "            if f1 == 0 and c1 != \"0\" * self.n and len(c1) == self.n:\n",
        "                print(\"iteration:\", j)\n",
        "                return c1\n",
        "\n",
        "            if f2 == 0 and c2 != \"0\" * self.n and len(c2) == self.n:\n",
        "                print(\"iteration:\", j)\n",
        "                return c2\n",
        "\n",
        "            c3, c4 = self.crossover(c1, c2)\n",
        "            cm1, cm2 = self.mutation(c3, c4)\n",
        "            fm1, fm2 = self.fitness(cm1, cm2)\n",
        "\n",
        "            if fm1 == 0 and cm1 != \"0\" * self.n and len(cm1) == self.n:\n",
        "                print(\"iteration:\", j)\n",
        "                return cm1\n",
        "\n",
        "            if fm2 == 0 and cm2 != \"0\" * self.n and len(cm2) == self.n:\n",
        "                print(\"iteration:\", j)\n",
        "                return cm2\n",
        "\n",
        "        return -1\n",
        "\n",
        "a='''5\n",
        "l 100\n",
        "l 450\n",
        "d 500\n",
        "l 7923\n",
        "d 9055\n",
        "'''\n",
        "b='''7\n",
        "l 120\n",
        "l 289\n",
        "d 475\n",
        "l 195\n",
        "d 6482\n",
        "l 160\n",
        "d 935'''\n",
        "\n",
        "obj1=StrangeBank(a)\n",
        "obj2=StrangeBank(b)\n",
        "print(obj1.genetic_algorithm())\n",
        "print(obj2.genetic_algorithm())"
      ]
    }
  ]
}