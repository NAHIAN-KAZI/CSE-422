{
  "nbformat": 4,
  "nbformat_minor": 0,
  "metadata": {
    "colab": {
      "provenance": []
    },
    "kernelspec": {
      "name": "python3",
      "display_name": "Python 3"
    },
    "language_info": {
      "name": "python"
    }
  },
  "cells": [
    {
      "cell_type": "code",
      "execution_count": 2,
      "metadata": {
        "colab": {
          "base_uri": "https://localhost:8080/"
        },
        "id": "I27oBoQMMuu3",
        "outputId": "dd9fb478-6423-47e6-b027-804eccf98170"
      },
      "outputs": [
        {
          "output_type": "stream",
          "name": "stdout",
          "text": [
            "Enter your student ID :17301106\n",
            "Enter minimum value range of HP :1\n",
            "Enter maxmimum value range of HP :30\n",
            "======================================================\n",
            "Depth and Branches ratio is 2:3\n",
            "Terminal States (leaf node values) are [24, 30, 29, 7, 25, 3, 22, 16, 7].\n",
            "Left life(HP) of the defender after maximum damage caused by the attacker is 35\n",
            "After Alpha-Beta Pruning Leaf Node Comparisons 5\n",
            "======================================================\n"
          ]
        }
      ],
      "source": [
        "from random import randint\n",
        "\n",
        "class AlphaBetaPruning:\n",
        "    def __init__(self,student_id):\n",
        "        self.branch= int(student_id[2])\n",
        "        self.depth= int(student_id[0])*2\n",
        "        self.hp= int(student_id[len(student_id)-1:len(student_id)-3:-1])\n",
        "        self.minimum_hp=int(input(\"Enter minimum value range of HP :\"))\n",
        "        self.maximum_hp=int(input(\"Enter maxmimum value range of HP :\"))\n",
        "        self.leaf=[]\n",
        "\n",
        "        for leafs in range(self.branch**self.depth):\n",
        "            self.leaf+=[randint(self.minimum_hp,self.maximum_hp)]\n",
        "\n",
        "        self.damage=0\n",
        "        self.Node_Comparisons=0\n",
        "\n",
        "\n",
        "    def alpha_beta(self,depth,alpha,beta,index,minmax):\n",
        "        if depth==0:\n",
        "            self.Node_Comparisons+=1\n",
        "            return self.leaf[index]\n",
        "        if minmax:\n",
        "            initial= -10000000000\n",
        "            for childs in range(self.branch):\n",
        "                child = self.alpha_beta(depth-1,alpha,beta,index*2+childs,False)\n",
        "\n",
        "                new= max(child,initial)\n",
        "                alpha=max(new,alpha)\n",
        "                if alpha >= beta:\n",
        "                    break\n",
        "            return new\n",
        "        else:\n",
        "            initial= 10000000000\n",
        "            for childs in range(self.branch):\n",
        "                child = self.alpha_beta(depth-1,alpha,beta,index*2+childs,True)\n",
        "\n",
        "                new=min(child,initial)\n",
        "                beta=min(new,beta)\n",
        "                if alpha >= beta:\n",
        "                    break\n",
        "            return new\n",
        "    def all_print(self):\n",
        "        print(\"======================================================\")\n",
        "        print(f\"Depth and Branches ratio is {self.depth}:{self.branch}\")\n",
        "        print(f\"Terminal States (leaf node values) are {self.leaf}.\")\n",
        "        print(f\"Left life(HP) of the defender after maximum damage caused by the attacker is {self.hp-self.damage}\")\n",
        "        print(f\"After Alpha-Beta Pruning Leaf Node Comparisons {self.Node_Comparisons}\")\n",
        "        print(\"======================================================\")\n",
        "\n",
        "obj=AlphaBetaPruning(input(\"Enter your student ID :\"))\n",
        "obj.damage=obj.alpha_beta(obj.depth,-10000000000,10000000000,0,True)\n",
        "obj.all_print()"
      ]
    }
  ]
}