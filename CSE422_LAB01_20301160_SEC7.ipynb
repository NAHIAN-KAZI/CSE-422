{
  "nbformat": 4,
  "nbformat_minor": 0,
  "metadata": {
    "colab": {
      "provenance": []
    },
    "kernelspec": {
      "name": "python3",
      "display_name": "Python 3"
    },
    "language_info": {
      "name": "python"
    }
  },
  "cells": [
    {
      "cell_type": "code",
      "execution_count": 12,
      "metadata": {
        "id": "UqpeC3VcqDcJ",
        "colab": {
          "base_uri": "https://localhost:8080/"
        },
        "outputId": "19a8ca58-4e79-4660-8f45-206bc4d5d943"
      },
      "outputs": [
        {
          "output_type": "stream",
          "name": "stdout",
          "text": [
            "Start Node: Bucharest\n",
            "Destination: Urziceni\n",
            "Urziceni -> Bucharest\n",
            "Total distance:  85 km\n"
          ]
        }
      ],
      "source": [
        "import heapq\n",
        "\n",
        "\n",
        "class TreeBuild:\n",
        "    def __init__(self):\n",
        "        self.edges = {}\n",
        "\n",
        "    def edge_add(self, node, neighbors):\n",
        "        self.edges[node] = neighbors\n",
        "\n",
        "    def heuristic(self, node, target):\n",
        "        return 0\n",
        "graph = TreeBuild()\n",
        "with open(\"Input file.txt\") as file:\n",
        "    for line in file:\n",
        "        line = line.strip().split()\n",
        "        node = line[0]\n",
        "        heuristic = int(line[1])\n",
        "        neighbors = {}\n",
        "        for i in range(2, len(line), 2):\n",
        "            neighbor = line[i]\n",
        "            distance = int(line[i + 1])\n",
        "            neighbors[neighbor] = distance\n",
        "        graph.edge_add(node, neighbors)\n",
        "\n",
        "def astar_algorithm(graph, start, end):\n",
        "\n",
        "    p_queue = []\n",
        "    heapq.heappush(p_queue, (0, start))\n",
        "    parent_node = {}\n",
        "    total_cost = {}\n",
        "    parent_node[start] = None\n",
        "    total_cost[start] = 0\n",
        "\n",
        "    for current in p_queue:\n",
        "        priority, node = current\n",
        "\n",
        "        if current == end:\n",
        "            break\n",
        "\n",
        "        for neighbor, total_distance in graph.edges[node].items():\n",
        "            new_cost = total_cost[node] + total_distance\n",
        "            if neighbor not in total_cost or new_cost < total_cost[neighbor]:\n",
        "                total_cost[neighbor] = new_cost\n",
        "                priority = new_cost + graph.heuristic(neighbor, end)\n",
        "                heapq.heappush(p_queue, (priority, neighbor))\n",
        "                parent_node[neighbor] = node\n",
        "\n",
        "    path_tracking = [end]\n",
        "    for node in reversed(path_tracking):\n",
        "        if node != start:\n",
        "            path_tracking.append(parent_node[node])\n",
        "        else:\n",
        "            break\n",
        "\n",
        "    total_distance = total_cost[end]\n",
        "    return path_tracking, total_distance\n",
        "\n",
        "\n",
        "start = input(\"Start Node: \")\n",
        "end = input(\"Destination: \")\n",
        "path, distance = astar_algorithm(graph, start, end)\n",
        "print(\" -> \".join(path))\n",
        "print(\"Total distance: \", distance, \"km\")\n"
      ]
    }
  ]
}